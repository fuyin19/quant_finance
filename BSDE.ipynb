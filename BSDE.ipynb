{
 "cells": [
  {
   "cell_type": "markdown",
   "metadata": {},
   "source": [
    "# Capstone Project: Simulation of Backward SDE and Nonlinear PDE"
   ]
  },
  {
   "cell_type": "markdown",
   "metadata": {},
   "source": [
    "## 1. Introduction"
   ]
  },
  {
   "cell_type": "markdown",
   "metadata": {},
   "source": [
    "### 1.1 Definition \n",
    "**Backward Stochastic Differential Equation** <br>\n",
    "Let $(\\Omega, \\mathcal{F}, \\{\\mathscr{F}_t\\}_{0\\leq t \\leq T}, \\mathbb{P})$ be a filtered probability space, where $\\{ \\mathscr{F}_t \\}_{0\\leq t \\leq T}$ is the natrual Brownian motion filtration. A 1-D BSDE is the equation has the following form,\n",
    "$$\n",
    "    dY_t = df(t, Y_t, Z_t)dt -  Z_tdW_t, \\quad Y_T = \\xi\n",
    "$$\n",
    "which is equivalent to\n",
    "$$\n",
    "    Y_t = \\xi + \\int_t^Tf(s, Y_s, Z_s)ds - \\int_t^TZ_sdW_s\n",
    "$$\n",
    "where \n",
    "* $(Y_t, Z_t)_{0\\leq t \\leq T}$, a couple of $\\mathscr{F}_{t}$-adapted process, is called a **solution** to the above BSDE s.t. $\\forall t \\in [0, T]$ \n",
    "    $$\n",
    "        Y_t:\\Omega \\longrightarrow \\mathbb{R}\n",
    "    $$\n",
    "    $$\n",
    "        Z_t:\\Omega \\longrightarrow \\mathbb{R}^r\n",
    "    $$\n",
    "* $f$, a deterministic function, is called the **generator**\n",
    "* $\\xi \\in \\mathbb{L^2}(\\mathscr{F}_T)$ is called the **terminal/final condition**\n",
    "<br>"
   ]
  },
  {
   "cell_type": "markdown",
   "metadata": {},
   "source": [
    "#### BSDE in finance\n",
    "In finance, we would usually consider the following BSDE,\n",
    "\n",
    "$$\n",
    "    dY_t = -df(t, S_t, Y_t, Z_t)dt + Z_tdW_t, \\quad Y_T = g(S_T)\n",
    "$$\n",
    "$$\n",
    "    Y_t = g(S_T) + \\int_t^Tf(s, S_s, Y_s, Z_s)ds - \\int_t^TZ_sdW_s \\tag{1}\n",
    "$$\n",
    "where\n",
    "* $S_t$ is some **risky assets**, which can be modelled by a diffusion, for example,\n",
    "    $$\n",
    "        dS_t = b(S_t, t)dt + \\sigma(S_t, t)dW_t, \\quad S_t = s\n",
    "    $$\n",
    "* $g$ is the **payoff function** of some derivative with underlying asset $S_t$. Therefore, the terminal condition in this case is\n",
    "    $$\n",
    "        \\xi = g(S_T)\n",
    "    $$\n",
    "which is clearly $\\mathscr{F}_T$-measurable because of the measurability of $S_T$.\n",
    "\n",
    "\n",
    "Moreover, by rearranging equation $(1)$,\n",
    "$$\n",
    "    g(S_T) = Y_t - \\int_t^Tf(s, S_s, Y_s, Z_s)ds + \\int_t^TZ_sdW_s\n",
    "$$\n",
    "\n",
    "we can interprate the above equation as the replicating stategy of $g(S_T)$ as the sum of the intial price $Y_t$ at $t$, a deterministic function $f$ controlled by the strategy $Z_t$, and the stragy $Z_t$ itself."
   ]
  },
  {
   "cell_type": "markdown",
   "metadata": {},
   "source": [
    "### 1.2 Uniqueness of Solution\n",
    "\n",
    "#### **Theorem: Pardoux-Peng**\n",
    "\n",
    "Let $f:[0, T] \\times \\mathbb{R}^d \\times \\mathbb{R} \\times \\mathbb{R}^r$ be a deterministic function satisfies the lipschitz condition, i.e. there exist $L \\in \\mathbb{R}$ s.t. for any $(t,x)\\in[0, T] \\times \\mathbb{R}^d$, \n",
    "$$\n",
    "    \\big|f(t, x, y_1, z_1) - f(t, x, y_2, z_2)\\big| \\leq L \\big\\Vert(y_1,z_1) - (y_2, z_2)\\big\\Vert\n",
    "$$\n",
    "$\\forall (y_1, z_1),(y_2, z_2) \\in \\mathbb{R} \\times \\mathbb{R}^d$ that\n",
    "$$\n",
    "    \\mathbb{E}\\bigg[ \\int_0^T |f(t, X_t, 0, 0)|^2dt\\bigg]<\\infty\n",
    "$$\n",
    "and $g\\in L^2(\\Omega, \\mathscr{F}, \\mathbb{R})$, then the BSDE\n",
    "$$\n",
    "    dY_t = df(t, X_t, Y_t, Z_t)dt -  Z_tdW_t, \\quad Y_T = g(X_T)\n",
    "$$\n",
    "admits a unique $\\mathscr{F}$-adapted solution $(Y_t, Z_t)$.\n",
    "\n",
    "<br>\n",
    "\n",
    "#### **Theorem: Linear 1D-BSDE solution**\n",
    "\n",
    "Assume the deterministic function $f$ in above theorem is of the linear form\n",
    "$$\n",
    "    dY_t = -(a_tY_t + b_tZ_t + c_t)dt + Z_tdW_t\n",
    "$$\n",
    "where $a_t,b_t,c_t$ are all $\\mathscr{F}_t$-adapted. Now define\n",
    "$$\n",
    "    d\\Gamma_t = a_t\\Gamma_tdt + b_t \\Gamma_t dW_t, \\quad \\Gamma_0=1\n",
    "$$\n",
    "then the unique solution $(Y_t, Z_t)$ given by\n",
    "$$\n",
    "    Y_t = \\Gamma_t^{-1}\\mathbb{E}\\bigg[ g(X_T)\\Gamma_T + \\int_t^T c_s \\Gamma_s ds \\big | \\mathcal{F_t} \\bigg]\n",
    "$$\n",
    "and $Z_t$ is defined by the martingale representation theorm applyed to the continuous martingale\n",
    "$$\n",
    "    M_t := \\Gamma_tY_t + \\int_0^t c_s\\Gamma_sds\n",
    "$$\n",
    "\n",
    "**Proof:**\n",
    "\n",
    "Consider the $\\mathscr{F}_t$-adapted process $M_t$ where we have\n",
    "\\begin{align}\n",
    "    dM_t &= d\\bigg( \\Gamma_tY_t + \\int_0^t c_s\\Gamma_sds \\bigg) \\\\\n",
    "    &= d( \\Gamma_tY_t ) + d\\bigg( \\int_0^t c_s \\Gamma_s ds\\bigg) \\\\\n",
    "    &= \\big(\\Gamma_tdY_t + Y_td\\Gamma_t + d\\Gamma_tdY_t \\big) + c_t\\Gamma_r dt \\\\\n",
    "    &= \\big( -\\Gamma_tc_tdt + \\Gamma_t Z_tdW_t+Y_t\\Gamma_tb_tdW_t \\big) + c_t\\Gamma_r dt \\\\\n",
    "    &= \\big(\\Gamma_t Z_t+Y_t\\Gamma_tb_t\\big)dW_t\n",
    "\\end{align}\n",
    "This shows that $M_t$ is a martingale since it has no drift. By definition of martingale, we have\n",
    "\n",
    "\\begin{align}\n",
    "    && M_t &= \\mathbb{E}\\big[ M_T| \\mathcal{F}_t \\big] \\\\\n",
    "    &\\iff &\\Gamma_tY_t + \\int_0^t c_s\\Gamma_sds &= \\mathbb{E}\\bigg[ Y_T\\Gamma_T + \\int_0^T c_s\\Gamma_sds|\\mathcal{F}_t \\bigg] \\\\\n",
    "    &\\iff&  \\Gamma_tY_t &= \\mathbb{E}\\bigg[ g(X_T)\\Gamma_T + \\int_t^T c_s\\Gamma_sds| \\mathcal{F}_t \\bigg] \\\\\n",
    "    &\\iff&   Y_t &= \\Gamma_t^{-1}\\mathbb{E}\\bigg[ g(X_T)\\Gamma_T + \\int_t^T c_s\\Gamma_sds| \\mathcal{F}_t \\bigg] \\\\\n",
    "\\end{align}\n",
    "\n",
    "In addition,\n",
    "$$\n",
    "    \\Gamma_t = exp\\bigg[\\int_0^t b_sdW_s + \\int_0^t a_s-\\frac{1}{2}b_s^2 ds\\bigg]\n",
    "$$\n",
    "\n",
    "This shows that $Y_t$ exists and unique. Moreover, by martingale representation theorem applied to $M_t=\\Gamma_tY_t + \\int_0^t c_s\\Gamma_sds$, and noticed that $M_t$ is well defined since $Y_t$ and $\\Gamma_t$ are well defined, there exists an unique $\\mathscr{F}_t$ adapted process $\\phi_t$ s.t.\n",
    "\\begin{align}\n",
    "    &&\\phi_t &= \\Gamma_t Z_t+Y_t\\Gamma_tb_t \\\\\n",
    "    &\\iff&Z_t &= \\frac{\\phi_t - Y_t\\Gamma_tb_t}{\\Gamma_t}\n",
    "\\end{align}\n",
    "Hence, the uniqueness and existence of $Z_t$ is given by the uniqueness of $Y_t,\\Gamma_t,b_t,\\phi_t$."
   ]
  },
  {
   "cell_type": "markdown",
   "metadata": {},
   "source": [
    "### 1.3 Example\n",
    "\n",
    "In this section, we will present a typical use of BDSE in mathematical finance. Consider the replicating strategy of the European option with the usual Black-Schole assumption, and we define\n",
    "* $S_t$ the stock price, which satisfies the SDE\n",
    "$$\n",
    "    dS_t = \\mu_t S_t dt + \\sigma_t S_t dW_t\n",
    "$$\n",
    "* $\\Pi_t$ the amount of wealth at $t$ invested in $S_t$ \n",
    "* $Y_t$ the total wealth at $t$\n",
    "* $r_t$ the instantaneous forward rate at $t$, which is also $\\mathscr{F}_t$-adapted\n",
    "* $\\xi = V(S_T)$ the payoff function at $T$\n",
    "\n",
    "In addition assume that we can only invest in $S_t$ or the bank account. Then, we will have\n",
    "\\begin{align}\n",
    "    Y_t &= \\Pi_t + (Y_t-\\Pi_t) = \\frac{\\Pi_t}{S_t}S_t + (Y_t - \\Pi_t) \\\\\n",
    "    dY_t&= d\\big(\\frac{\\Pi_t}{S_t}S_t\\big) + d(Y_t - \\Pi_t) \\\\\n",
    "        &= \\frac{\\Pi_t}{S_t}dS_t + r_t(Y_t - \\Pi_t)dt \\\\\n",
    "        &= \\big[(\\mu_t - r_t)\\Pi_t + r_tY_t \\big] dt + \\sigma_t \\Pi_t dW_t \\tag{2}\n",
    "\\end{align}\n",
    "\n",
    "In order to replicate the option payoff, we have $ Y_T = \\xi = V(S_T)$ at $T$. Then SDE $(2)$ becomes,\n",
    "\\begin{align}\n",
    "     &&Y_T - Y_t &= \\int_t^T\\big( (\\mu_t - r_t)\\Pi_t + r_tY_t \\big) dt + \\int_t^T \\sigma_t \\Pi_t dW_t \\\\\n",
    "   &\\iff& Y_t &= \\xi - \\int_t^T\\big( (\\mu_t - r_t)\\Pi_t + r_tY_t \\big) dt - \\int_t^T \\sigma_t \\Pi_t dW_t \\tag{3}\\\\\n",
    "\\end{align}"
   ]
  },
  {
   "cell_type": "markdown",
   "metadata": {},
   "source": [
    "Here, we observed that equation $(2)$ admits a linear form, where\n",
    "\\begin{align}\n",
    "    Z_t &:= \\sigma_t \\Pi_t \\\\\n",
    "    a_t &:= -r_t \\\\\n",
    "    b_t &:= -\\frac{(\\mu_t-r_t)}{\\sigma_t} = 0 \\quad \\text{, under $\\mathbb{Q}$-measure}\\\\\n",
    "    c_t &:= 0 \\\\\n",
    "    \\Gamma_t &= exp\\bigg[\\int_0^t b_sdW_s + \\int_0^t a_s-\\frac{1}{2}b_s^2 ds\\bigg] = exp\\bigg[ \\int_0^t -r_s ds\\bigg]\n",
    "\\end{align}\n",
    "By previous theorem on 1d-BSDE solution, the unique $Y_t$ is given by\n",
    "\\begin{align}\n",
    "    Y_t &= \\Gamma_t^{-1}\\mathbb{E}^{\\mathbb{Q}}\\bigg[ V(S_T)\\Gamma_T + \\int_t^T c_s\\Gamma_sds| \\mathcal{F}_t \\bigg] \\\\\n",
    "    &= e^{\\int_0^t r_s ds} \\mathbb{E}^{\\mathbb{Q}} \\bigg[ V(S_T) e^{\\int_0^T -r_s ds}\\big | \\mathcal{F}_t \\bigg] \\\\\n",
    "    &= \\mathbb{E}^{\\mathbb{Q}} \\bigg[ V(S_T) e^{-\\int_t^T r_s ds}\\big | \\mathcal{F}_t \\bigg]\n",
    "\\end{align}\n",
    "Indeed, $Y_t$ is the risk-neutral price of the asset with payoff $V(S_T)$ at $T$."
   ]
  },
  {
   "cell_type": "code",
   "execution_count": null,
   "metadata": {},
   "outputs": [],
   "source": []
  },
  {
   "cell_type": "code",
   "execution_count": null,
   "metadata": {},
   "outputs": [],
   "source": []
  },
  {
   "cell_type": "code",
   "execution_count": null,
   "metadata": {},
   "outputs": [],
   "source": []
  },
  {
   "cell_type": "code",
   "execution_count": null,
   "metadata": {},
   "outputs": [],
   "source": []
  },
  {
   "cell_type": "code",
   "execution_count": null,
   "metadata": {},
   "outputs": [],
   "source": []
  },
  {
   "cell_type": "code",
   "execution_count": null,
   "metadata": {},
   "outputs": [],
   "source": []
  },
  {
   "cell_type": "code",
   "execution_count": null,
   "metadata": {},
   "outputs": [],
   "source": []
  }
 ],
 "metadata": {
  "kernelspec": {
   "display_name": "Python 3 (ipykernel)",
   "language": "python",
   "name": "python3"
  },
  "language_info": {
   "codemirror_mode": {
    "name": "ipython",
    "version": 3
   },
   "file_extension": ".py",
   "mimetype": "text/x-python",
   "name": "python",
   "nbconvert_exporter": "python",
   "pygments_lexer": "ipython3",
   "version": "3.8.5"
  }
 },
 "nbformat": 4,
 "nbformat_minor": 4
}
